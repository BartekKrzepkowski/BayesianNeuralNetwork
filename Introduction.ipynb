{
 "cells": [
  {
   "cell_type": "markdown",
   "metadata": {},
   "source": [
    "Bayesian neural network is a neural network with a prior distribution on its weights.<br>\n",
    "With contrast to well known neural networks, where weights are point estimated, weights in bayesian neural network are interval estimated, with a given confidence interval.<br>\n",
    "This approach allows for a more thorough examination of the learned model, along with the analysis of uncertainty as to the results obtained."
   ]
  },
  {
   "cell_type": "code",
   "execution_count": null,
   "metadata": {},
   "outputs": [],
   "source": []
  },
  {
   "cell_type": "markdown",
   "metadata": {},
   "source": [
    "# Python libraries associated with Bayesian Learning"
   ]
  },
  {
   "cell_type": "markdown",
   "metadata": {},
   "source": [
    "#### Edward\n",
    "http://edwardlib.org/<br>\n",
    "\n",
    "\n",
    "#### InferPy\n",
    "https://inferpy.readthedocs.io/projects/develop/en/latest/notes/guidebayesian.html<br>\n",
    "\n",
    "\n",
    "#### PyPyro\n",
    "http://pyro.ai/numpyro/index.html<br>\n",
    "\n",
    "\n",
    "#### PyMC3\n",
    "https://docs.pymc.io/<br>\n",
    "\n",
    "\n",
    "#### PyStan\n",
    "https://pystan.readthedocs.io/en/latest/index.html<br>\n",
    "\n",
    "\n",
    "#### TensorFlow Probability\n",
    "https://www.tensorflow.org/probability/overview<br>\n",
    "\n"
   ]
  },
  {
   "cell_type": "code",
   "execution_count": null,
   "metadata": {},
   "outputs": [],
   "source": []
  }
 ],
 "metadata": {
  "kernelspec": {
   "display_name": "Python 3",
   "language": "python",
   "name": "python3"
  },
  "language_info": {
   "codemirror_mode": {
    "name": "ipython",
    "version": 3
   },
   "file_extension": ".py",
   "mimetype": "text/x-python",
   "name": "python",
   "nbconvert_exporter": "python",
   "pygments_lexer": "ipython3",
   "version": "3.6.8"
  }
 },
 "nbformat": 4,
 "nbformat_minor": 2
}
