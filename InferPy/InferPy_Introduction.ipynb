{
 "cells": [
  {
   "cell_type": "markdown",
   "metadata": {},
   "source": [
    "# InferPy "
   ]
  },
  {
   "cell_type": "markdown",
   "metadata": {},
   "source": [
    "The core data structures of InferPy is a probabilistic model, defined as a set of random variables with a conditional dependency structure.<br>\n",
    "A random variable is an object parameterized by a set of tensors. Every random variable within model can be named.<br>\n",
    "It is highly convenient to explicitly specify the name of a random variable because in this way it will be able to be referenced in some inference stages.<br>\n",
    "InferPy directly relies on top of Edward’s inference engine, which means, that InferPy's inference engine relies on TensorFlow computing engine.<br>\n",
    "<img src=\"arch.png\" height=500 width=500>\n",
    "\n",
    "The diagram above shows InferPy architecture.<br>\n",
    "As in Edward, plateau notation is used in InferPy, to define the data generation part of a probabilistic model. Every record in dataset, creates distinct variable, coded into a plate.$\\textbf{(plate - revision)}$"
   ]
  },
  {
   "cell_type": "markdown",
   "metadata": {},
   "source": [
    "In InterPy any probabilistic model $\\textbf{'P'}$ is obtained as a result of a function decorated with $\\textbf{@inf.probmodel}$. The model is made of any variable defined inside this function.<br>\n",
    "To make an inference, we also need to define model $\\textbf{‘Q’}$ for approximating the posterior distribution. This is also done, with the help of a function decorated with $\\textbf{@inf.probmodel}$.<br>\n",
    "In the $\\textbf{'Q'}$ model we should include a $q$ distribution for every non observed variable in the $\\textbf{'P'}$ model.<br>"
   ]
  },
  {
   "cell_type": "markdown",
   "metadata": {},
   "source": [
    "Supported probability distributions are located in the package $\\textbf{inferpy.models}$. All of them have $\\textbf{inferpy.models.RandomVariable}$ as superclass."
   ]
  },
  {
   "cell_type": "code",
   "execution_count": null,
   "metadata": {},
   "outputs": [],
   "source": [
    "By przeprowadzić wnioskowania"
   ]
  },
  {
   "cell_type": "code",
   "execution_count": null,
   "metadata": {},
   "outputs": [],
   "source": [
    "To make an inference"
   ]
  }
 ],
 "metadata": {
  "kernelspec": {
   "display_name": "Python 3",
   "language": "python",
   "name": "python3"
  },
  "language_info": {
   "codemirror_mode": {
    "name": "ipython",
    "version": 3
   },
   "file_extension": ".py",
   "mimetype": "text/x-python",
   "name": "python",
   "nbconvert_exporter": "python",
   "pygments_lexer": "ipython3",
   "version": "3.6.8"
  }
 },
 "nbformat": 4,
 "nbformat_minor": 2
}
