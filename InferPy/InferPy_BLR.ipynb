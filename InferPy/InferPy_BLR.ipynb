{
 "cells": [
  {
   "cell_type": "markdown",
   "metadata": {},
   "source": [
    "# Bayesian Linear Regression"
   ]
  },
  {
   "cell_type": "markdown",
   "metadata": {},
   "source": [
    "In this notebook we will apply the framework of Bayesian statistics to linear regression."
   ]
  },
  {
   "cell_type": "markdown",
   "metadata": {},
   "source": [
    " "
   ]
  },
  {
   "cell_type": "markdown",
   "metadata": {},
   "source": [
    "<img src=\"BLR.png\">"
   ]
  },
  {
   "cell_type": "markdown",
   "metadata": {},
   "source": [
    "With contrast to the linear least squares estimation techniques like OLS, Bayesian linear regession produces not a single point estimate for the \"best\" values of the regression coefficients but an entire posterior distribution, completely describing the uncertainty surrounding the quantity."
   ]
  },
  {
   "cell_type": "markdown",
   "metadata": {},
   "source": [
    "# Base assumptions about posit linear model.\n",
    "\n",
    "Given some phenomenons, coded into matrices $X$, $Y$<br>\n",
    "\n",
    "$\\textbf{1)}$ Relationship between phenomenons from $X$ and $Y$ is linear, but gathered data is infected by some noise, which is coded into unobserved random variable $\\epsilon$.<br>\n",
    "By $\\epsilon$ we also signify matrix of individual noises, which correspond to observed phenomenons.<br>\n",
    "Described dependence can be writen, like this\n",
    "$$Y = X \\cdot W + \\epsilon$$\n",
    "Which is also called the dependency hypothesis.\n",
    "Occured $W$ represent latent\n",
    "<br>\n",
    "<br>\n",
    "<br>\n",
    "$\\textbf{2)}$ Noises that have infected the collected data, come from distributions with the same variance. It is also called homoscedasticity.\n",
    "<br>\n",
    "<br>\n",
    "<br>\n",
    "$\\textbf{3)}$ Errors of the response variables are uncorrelated/independent with each other.\n",
    "<br>\n",
    "<br>\n",
    "<br>\n",
    "$\\textbf{4)}$ Features representing the phenomena in $ X $ are linearly independent. Number of records in $X$ is greater than number of parameters(regression coefficients) in model."
   ]
  },
  {
   "cell_type": "markdown",
   "metadata": {},
   "source": [
    "# Assumptions in Bayesian linear regression\n",
    "Assumption of \n",
    "$\\varepsilon _{i}\\sim N(0,\\sigma ^{2})$<br>\n",
    "leads to an explicit likelihood distribution about Y, given X and parameters.\n",
    "\n",
    "By means of the first and fourth points of the previous paragraph, we are able to obtain an explicit formula for the parameter $W$, which presents itself as \n",
    "$$W = (X^TX)^{-1}X^T(Y-\\epsilon)$$\n",
    "\n",
    "Stating that the available sample size is reason enough to accept the estimation of the parameter $W$, we get \n",
    "$${\\widehat W} = (X^TX)^{-1}X^T(Y)$$\n",
    "This estimation is fully dependent on the collected sample of observed phenomena, and is not subject to any probability assessment.\n",
    "\n",
    "However, the Bayesian approach is not satisfied with point estimation, wishing to examine the validity of the results obtained. The opportunity for such meta-studies is, however, possible when, first of all, an arbital environment of considerations is established. The concept of The prior belief is introduced here, which defines the beginning of inference from the arbitrary assumption of the form of the distribution under consideration.\n",
    "This assumption, together with the likelihood and onymous theorem of this approach (Bayes' theorem), leads to the posteriori of the parameter $ W $ by the following formula $P(W|X) = \\large\\frac{P(X|W)P(W)}{P(X)}$"
   ]
  },
  {
   "cell_type": "code",
   "execution_count": 1,
   "metadata": {},
   "outputs": [],
   "source": [
    "import inferpy as inf\n",
    "import tensorflow as tf\n",
    "import pandas as pd"
   ]
  },
  {
   "cell_type": "code",
   "execution_count": 2,
   "metadata": {},
   "outputs": [],
   "source": [
    "@inf.probmodel\n",
    "def lr_bpmodel(x_dim):\n",
    "    w = inf.Normal(loc = tf.zeros(shape=[x_dim, 1]), scale=1, name=\"w\")\n",
    "    w0 = inf.Normal(loc = 0, scale=1, name=\"w0\")\n",
    "    \n",
    "    with inf.datamodel():\n",
    "        x = inf.Normal(loc = tf.ones(shape=[x_dim]), scale=1, name=\"x\")\n",
    "        y = inf.Normal(loc = w0 + x @ w, scale=1.0, name=\"y\")\n",
    "        \n",
    "@inf.probmodel      \n",
    "def bqmodel(x_dim):\n",
    "    qw0_loc = inf.Parameter(initial_value=0., name=\"qw0_loc\")\n",
    "    qw0_scale = tf.math.softplus(features=inf.Parameter(initial_value=1., name=\"qw0_scale\"))\n",
    "    qw0 = inf.Normal(loc=qw0_loc, scale=qw0_scale, name=\"w0\")\n",
    "\n",
    "    qw_loc = inf.Parameter(initial_value=tf.zeros(shape=[x_dim, 1]), name=\"qw_loc\")\n",
    "    qw_scale = tf.math.softplus(features=inf.Parameter(initial_value=tf.ones(shape=[x_dim, 1]), name=\"qw_scale\"))\n",
    "    qw = inf.Normal(loc=qw_loc, scale=qw_scale, name=\"w\")\n"
   ]
  },
  {
   "cell_type": "markdown",
   "metadata": {},
   "source": [
    "# Data preparation"
   ]
  },
  {
   "cell_type": "code",
   "execution_count": 3,
   "metadata": {},
   "outputs": [],
   "source": [
    "import pandas as pd\n",
    "from sklearn.model_selection import train_test_split\n",
    "\n",
    "%matplotlib inline"
   ]
  },
  {
   "cell_type": "code",
   "execution_count": 4,
   "metadata": {},
   "outputs": [
    {
     "name": "stdout",
     "output_type": "stream",
     "text": [
      "(506, 14)\n"
     ]
    },
    {
     "data": {
      "text/html": [
       "<div>\n",
       "<style scoped>\n",
       "    .dataframe tbody tr th:only-of-type {\n",
       "        vertical-align: middle;\n",
       "    }\n",
       "\n",
       "    .dataframe tbody tr th {\n",
       "        vertical-align: top;\n",
       "    }\n",
       "\n",
       "    .dataframe thead th {\n",
       "        text-align: right;\n",
       "    }\n",
       "</style>\n",
       "<table border=\"1\" class=\"dataframe\">\n",
       "  <thead>\n",
       "    <tr style=\"text-align: right;\">\n",
       "      <th></th>\n",
       "      <th>CRIM</th>\n",
       "      <th>ZN</th>\n",
       "      <th>INDUS</th>\n",
       "      <th>CHAS</th>\n",
       "      <th>NOX</th>\n",
       "      <th>RM</th>\n",
       "      <th>AGE</th>\n",
       "      <th>DIS</th>\n",
       "      <th>RAD</th>\n",
       "      <th>TAX</th>\n",
       "      <th>PTRATIO</th>\n",
       "      <th>B</th>\n",
       "      <th>LSTAT</th>\n",
       "      <th>MEDV</th>\n",
       "    </tr>\n",
       "  </thead>\n",
       "  <tbody>\n",
       "    <tr>\n",
       "      <th>0</th>\n",
       "      <td>0.00632</td>\n",
       "      <td>18.0</td>\n",
       "      <td>2.31</td>\n",
       "      <td>0</td>\n",
       "      <td>0.538</td>\n",
       "      <td>6.575</td>\n",
       "      <td>65.2</td>\n",
       "      <td>4.0900</td>\n",
       "      <td>1</td>\n",
       "      <td>296.0</td>\n",
       "      <td>15.3</td>\n",
       "      <td>396.90</td>\n",
       "      <td>4.98</td>\n",
       "      <td>24.0</td>\n",
       "    </tr>\n",
       "    <tr>\n",
       "      <th>1</th>\n",
       "      <td>0.02731</td>\n",
       "      <td>0.0</td>\n",
       "      <td>7.07</td>\n",
       "      <td>0</td>\n",
       "      <td>0.469</td>\n",
       "      <td>6.421</td>\n",
       "      <td>78.9</td>\n",
       "      <td>4.9671</td>\n",
       "      <td>2</td>\n",
       "      <td>242.0</td>\n",
       "      <td>17.8</td>\n",
       "      <td>396.90</td>\n",
       "      <td>9.14</td>\n",
       "      <td>21.6</td>\n",
       "    </tr>\n",
       "    <tr>\n",
       "      <th>2</th>\n",
       "      <td>0.02729</td>\n",
       "      <td>0.0</td>\n",
       "      <td>7.07</td>\n",
       "      <td>0</td>\n",
       "      <td>0.469</td>\n",
       "      <td>7.185</td>\n",
       "      <td>61.1</td>\n",
       "      <td>4.9671</td>\n",
       "      <td>2</td>\n",
       "      <td>242.0</td>\n",
       "      <td>17.8</td>\n",
       "      <td>392.83</td>\n",
       "      <td>4.03</td>\n",
       "      <td>34.7</td>\n",
       "    </tr>\n",
       "    <tr>\n",
       "      <th>3</th>\n",
       "      <td>0.03237</td>\n",
       "      <td>0.0</td>\n",
       "      <td>2.18</td>\n",
       "      <td>0</td>\n",
       "      <td>0.458</td>\n",
       "      <td>6.998</td>\n",
       "      <td>45.8</td>\n",
       "      <td>6.0622</td>\n",
       "      <td>3</td>\n",
       "      <td>222.0</td>\n",
       "      <td>18.7</td>\n",
       "      <td>394.63</td>\n",
       "      <td>2.94</td>\n",
       "      <td>33.4</td>\n",
       "    </tr>\n",
       "    <tr>\n",
       "      <th>4</th>\n",
       "      <td>0.06905</td>\n",
       "      <td>0.0</td>\n",
       "      <td>2.18</td>\n",
       "      <td>0</td>\n",
       "      <td>0.458</td>\n",
       "      <td>7.147</td>\n",
       "      <td>54.2</td>\n",
       "      <td>6.0622</td>\n",
       "      <td>3</td>\n",
       "      <td>222.0</td>\n",
       "      <td>18.7</td>\n",
       "      <td>396.90</td>\n",
       "      <td>5.33</td>\n",
       "      <td>36.2</td>\n",
       "    </tr>\n",
       "  </tbody>\n",
       "</table>\n",
       "</div>"
      ],
      "text/plain": [
       "      CRIM    ZN  INDUS  CHAS    NOX     RM   AGE     DIS  RAD    TAX  \\\n",
       "0  0.00632  18.0   2.31     0  0.538  6.575  65.2  4.0900    1  296.0   \n",
       "1  0.02731   0.0   7.07     0  0.469  6.421  78.9  4.9671    2  242.0   \n",
       "2  0.02729   0.0   7.07     0  0.469  7.185  61.1  4.9671    2  242.0   \n",
       "3  0.03237   0.0   2.18     0  0.458  6.998  45.8  6.0622    3  222.0   \n",
       "4  0.06905   0.0   2.18     0  0.458  7.147  54.2  6.0622    3  222.0   \n",
       "\n",
       "   PTRATIO       B  LSTAT  MEDV  \n",
       "0     15.3  396.90   4.98  24.0  \n",
       "1     17.8  396.90   9.14  21.6  \n",
       "2     17.8  392.83   4.03  34.7  \n",
       "3     18.7  394.63   2.94  33.4  \n",
       "4     18.7  396.90   5.33  36.2  "
      ]
     },
     "execution_count": 4,
     "metadata": {},
     "output_type": "execute_result"
    }
   ],
   "source": [
    "names = ['CRIM', 'ZN', 'INDUS', 'CHAS', 'NOX', 'RM', 'AGE', 'DIS', 'RAD', 'TAX', 'PTRATIO', 'B', 'LSTAT', 'MEDV']\n",
    "dataset = pd.read_csv(\"housing.csv\", delim_whitespace=True, header=None, names=names)\n",
    "print(dataset.shape)\n",
    "dataset.head()"
   ]
  },
  {
   "cell_type": "code",
   "execution_count": 5,
   "metadata": {},
   "outputs": [
    {
     "name": "stdout",
     "output_type": "stream",
     "text": [
      "<class 'pandas.core.frame.DataFrame'>\n",
      "RangeIndex: 506 entries, 0 to 505\n",
      "Data columns (total 14 columns):\n",
      "CRIM       506 non-null float64\n",
      "ZN         506 non-null float64\n",
      "INDUS      506 non-null float64\n",
      "CHAS       506 non-null int64\n",
      "NOX        506 non-null float64\n",
      "RM         506 non-null float64\n",
      "AGE        506 non-null float64\n",
      "DIS        506 non-null float64\n",
      "RAD        506 non-null int64\n",
      "TAX        506 non-null float64\n",
      "PTRATIO    506 non-null float64\n",
      "B          506 non-null float64\n",
      "LSTAT      506 non-null float64\n",
      "MEDV       506 non-null float64\n",
      "dtypes: float64(12), int64(2)\n",
      "memory usage: 55.4 KB\n"
     ]
    }
   ],
   "source": [
    "dataset.info()"
   ]
  },
  {
   "cell_type": "code",
   "execution_count": 6,
   "metadata": {},
   "outputs": [
    {
     "data": {
      "image/png": "[encoded data removed]",
      "text/plain": [
       "<Figure size 1080x720 with 16 Axes>"
      ]
     },
     "metadata": {
      "needs_background": "light"
     },
     "output_type": "display_data"
    }
   ],
   "source": [
    "# histograms\n",
    "dataset.hist(bins=10,figsize=(15,10),grid=False);"
   ]
  },
  {
   "cell_type": "code",
   "execution_count": 7,
   "metadata": {},
   "outputs": [],
   "source": [
    "TARGET = \"MEDV\"\n",
    "dataset = dataset.drop(['CRIM','ZN','INDUS','NOX','AGE','DIS','RAD'], axis = 1)\n",
    "x_data, y_data = dataset.drop(labels=TARGET, axis=1).values, dataset[TARGET].values\n",
    "y_data = y_data.reshape(-1, 1)\n",
    "x_train, x_test, y_train, y_test = train_test_split(x_data, y_data, test_size=0.25, random_state=42)"
   ]
  },
  {
   "cell_type": "markdown",
   "metadata": {},
   "source": [
    "# Fitting of posterior distribution parameters"
   ]
  },
  {
   "cell_type": "code",
   "execution_count": 8,
   "metadata": {},
   "outputs": [
    {
     "name": "stderr",
     "output_type": "stream",
     "text": [
      "WARNING: Logging before flag parsing goes to stderr.\n",
      "W0816 18:57:58.133157 140671609747264 deprecation_wrapper.py:119] From /usr/local/lib/python3.6/dist-packages/inferpy/models/prob_model.py:62: The name tf.Session is deprecated. Please use tf.compat.v1.Session instead.\n",
      "\n",
      "W0816 18:57:58.183075 140671609747264 deprecation_wrapper.py:119] From /usr/local/lib/python3.6/dist-packages/inferpy/models/random_variable.py:430: The name tf.variables_initializer is deprecated. Please use tf.compat.v1.variables_initializer instead.\n",
      "\n",
      "W0816 18:57:58.212707 140671609747264 deprecation_wrapper.py:119] From /usr/local/lib/python3.6/dist-packages/inferpy/util/tf_graph.py:63: The name tf.get_default_graph is deprecated. Please use tf.compat.v1.get_default_graph instead.\n",
      "\n",
      "W0816 18:57:58.298041 140671609747264 deprecation_wrapper.py:119] From /usr/local/lib/python3.6/dist-packages/inferpy/models/prob_model.py:144: The name tf.global_variables is deprecated. Please use tf.compat.v1.global_variables instead.\n",
      "\n",
      "W0816 18:57:58.587550 140671609747264 deprecation_wrapper.py:119] From /usr/local/lib/python3.6/dist-packages/inferpy/inference/variational/vi.py:48: The name tf.train.AdamOptimizer is deprecated. Please use tf.compat.v1.train.AdamOptimizer instead.\n",
      "\n",
      "W0816 18:57:59.326619 140671609747264 deprecation.py:323] From /usr/local/lib/python3.6/dist-packages/inferpy/contextmanager/evidence.py:15: Variable.load (from tensorflow.python.ops.variables) is deprecated and will be removed in a future version.\n",
      "Instructions for updating:\n",
      "Prefer Variable.assign which has equivalent behavior in 2.X.\n"
     ]
    },
    {
     "name": "stdout",
     "output_type": "stream",
     "text": [
      "\n",
      " 0 epochs\t 65786356.0....................\n",
      " 200 epochs\t 62942248.0....................\n",
      " 400 epochs\t 125641016.0....................\n",
      " 600 epochs\t 65509720.0....................\n",
      " 800 epochs\t 103393224.0....................\n",
      " 1000 epochs\t 112013352.0....................\n",
      " 1200 epochs\t 65702988.0....................\n",
      " 1400 epochs\t 166137680.0....................\n",
      " 1600 epochs\t 69697056.0....................\n",
      " 1800 epochs\t 86935944.0....................\n",
      " 2000 epochs\t 148967584.0....................\n",
      " 2200 epochs\t 63510552.0....................\n",
      " 2400 epochs\t 64479160.0....................\n",
      " 2600 epochs\t 127558680.0....................\n",
      " 2800 epochs\t 62143244.0....................\n",
      " 3000 epochs\t 64302240.0....................\n",
      " 3200 epochs\t 118109944.0....................\n",
      " 3400 epochs\t 64854660.0....................\n",
      " 3600 epochs\t 72110928.0....................\n",
      " 3800 epochs\t 85167696.0....................\n",
      " 4000 epochs\t 73770248.0....................\n",
      " 4200 epochs\t 63893488.0....................\n",
      " 4400 epochs\t 63951596.0....................\n",
      " 4600 epochs\t 62888704.0....................\n",
      " 4800 epochs\t 64397300.0....................\n",
      " 5000 epochs\t 65700228.0....................\n",
      " 5200 epochs\t 64362808.0....................\n",
      " 5400 epochs\t 62381712.0....................\n",
      " 5600 epochs\t 121170904.0....................\n",
      " 5800 epochs\t 63655032.0....................\n",
      " 6000 epochs\t 62073432.0....................\n",
      " 6200 epochs\t 63599756.0....................\n",
      " 6400 epochs\t 69550016.0....................\n",
      " 6600 epochs\t 70283856.0....................\n",
      " 6800 epochs\t 64271704.0....................\n",
      " 7000 epochs\t 63438112.0....................\n",
      " 7200 epochs\t 62131940.0....................\n",
      " 7400 epochs\t 62668028.0....................\n",
      " 7600 epochs\t 62997480.0....................\n",
      " 7800 epochs\t 62234312.0....................\n",
      " 8000 epochs\t 65546364.0....................\n",
      " 8200 epochs\t 63901576.0....................\n",
      " 8400 epochs\t 64654276.0....................\n",
      " 8600 epochs\t 62426944.0....................\n",
      " 8800 epochs\t 65586944.0....................\n",
      " 9000 epochs\t 67768216.0....................\n",
      " 9200 epochs\t 70580536.0....................\n",
      " 9400 epochs\t 62161988.0....................\n",
      " 9600 epochs\t 63574764.0....................\n",
      " 9800 epochs\t 62609496.0....................\n",
      " 10000 epochs\t 63991876.0....................\n",
      " 10200 epochs\t 62703776.0....................\n",
      " 10400 epochs\t 62011500.0....................\n",
      " 10600 epochs\t 65295996.0....................\n",
      " 10800 epochs\t 62099848.0....................\n",
      " 11000 epochs\t 62076460.0....................\n",
      " 11200 epochs\t 62046192.0....................\n",
      " 11400 epochs\t 62335276.0....................\n",
      " 11600 epochs\t 62059732.0....................\n",
      " 11800 epochs\t 62094180.0....................\n",
      " 12000 epochs\t 62037500.0....................\n",
      " 12200 epochs\t 62157924.0....................\n",
      " 12400 epochs\t 62970216.0....................\n",
      " 12600 epochs\t 62211712.0....................\n",
      " 12800 epochs\t 62368644.0....................\n",
      " 13000 epochs\t 62344936.0....................\n",
      " 13200 epochs\t 63321384.0....................\n",
      " 13400 epochs\t 62072712.0....................\n",
      " 13600 epochs\t 62541164.0....................\n",
      " 13800 epochs\t 62016196.0....................\n",
      " 14000 epochs\t 62049540.0....................\n",
      " 14200 epochs\t 62033680.0....................\n",
      " 14400 epochs\t 62006628.0....................\n",
      " 14600 epochs\t 62009696.0....................\n",
      " 14800 epochs\t 62082636.0....................\n",
      " 15000 epochs\t 62200024.0....................\n",
      " 15200 epochs\t 62539848.0....................\n",
      " 15400 epochs\t 62246736.0....................\n",
      " 15600 epochs\t 62052280.0....................\n",
      " 15800 epochs\t 62007960.0....................\n",
      " 16000 epochs\t 62086076.0....................\n",
      " 16200 epochs\t 62172212.0....................\n",
      " 16400 epochs\t 62011168.0....................\n",
      " 16600 epochs\t 62004404.0....................\n",
      " 16800 epochs\t 62033304.0....................\n",
      " 17000 epochs\t 62035676.0....................\n",
      " 17200 epochs\t 62037528.0....................\n",
      " 17400 epochs\t 62340776.0....................\n",
      " 17600 epochs\t 62038256.0....................\n",
      " 17800 epochs\t 62037200.0....................\n",
      " 18000 epochs\t 62012708.0....................\n",
      " 18200 epochs\t 62041716.0....................\n",
      " 18400 epochs\t 62023768.0....................\n",
      " 18600 epochs\t 62017356.0....................\n",
      " 18800 epochs\t 62054644.0....................\n",
      " 19000 epochs\t 62032616.0....................\n",
      " 19200 epochs\t 62017756.0....................\n",
      " 19400 epochs\t 62007596.0....................\n",
      " 19600 epochs\t 62031832.0....................\n",
      " 19800 epochs\t 62030424.0....................\n",
      " 20000 epochs\t 62009720.0....................\n",
      " 20200 epochs\t 62011624.0....................\n",
      " 20400 epochs\t 62021020.0....................\n",
      " 20600 epochs\t 62021128.0....................\n",
      " 20800 epochs\t 62009284.0....................\n",
      " 21000 epochs\t 62003376.0....................\n",
      " 21200 epochs\t 62053096.0....................\n",
      " 21400 epochs\t 62004668.0....................\n",
      " 21600 epochs\t 62007808.0....................\n",
      " 21800 epochs\t 62010544.0....................\n",
      " 22000 epochs\t 62008956.0....................\n",
      " 22200 epochs\t 62005752.0....................\n",
      " 22400 epochs\t 62003324.0....................\n",
      " 22600 epochs\t 62003416.0....................\n",
      " 22800 epochs\t 62036100.0....................\n",
      " 23000 epochs\t 62013108.0....................\n",
      " 23200 epochs\t 62001396.0....................\n",
      " 23400 epochs\t 62001736.0....................\n",
      " 23600 epochs\t 62003264.0....................\n",
      " 23800 epochs\t 62002848.0....................\n",
      " 24000 epochs\t 62000900.0....................\n",
      " 24200 epochs\t 62001548.0....................\n",
      " 24400 epochs\t 62001588.0....................\n",
      " 24600 epochs\t 62001788.0....................\n",
      " 24800 epochs\t 62005096.0....................\n",
      " 25000 epochs\t 62001796.0....................\n",
      " 25200 epochs\t 62001320.0....................\n",
      " 25400 epochs\t 62011720.0....................\n",
      " 25600 epochs\t 62003488.0....................\n",
      " 25800 epochs\t 62001756.0....................\n",
      " 26000 epochs\t 62003088.0....................\n",
      " 26200 epochs\t 62008104.0....................\n",
      " 26400 epochs\t 62000508.0....................\n",
      " 26600 epochs\t 62004036.0....................\n",
      " 26800 epochs\t 62001788.0....................\n",
      " 27000 epochs\t 62006800.0....................\n",
      " 27200 epochs\t 62000840.0....................\n",
      " 27400 epochs\t 62004224.0....................\n",
      " 27600 epochs\t 62000384.0....................\n",
      " 27800 epochs\t 62004928.0....................\n",
      " 28000 epochs\t 62001564.0....................\n",
      " 28200 epochs\t 62002692.0....................\n",
      " 28400 epochs\t 62000020.0....................\n",
      " 28600 epochs\t 61999608.0....................\n",
      " 28800 epochs\t 61999688.0....................\n",
      " 29000 epochs\t 61999472.0....................\n",
      " 29200 epochs\t 61999400.0....................\n",
      " 29400 epochs\t 62001024.0....................\n",
      " 29600 epochs\t 62000428.0....................\n",
      " 29800 epochs\t 61999208.0...................."
     ]
    }
   ],
   "source": [
    "lr_bmodel = lr_bpmodel(x_dim=x_train.shape[1])\n",
    "\n",
    "VI = inf.inference.VI(bqmodel(x_train.shape[1]), epochs=30000)\n",
    "lr_bmodel.fit({\"x\": x_train, \"y\":y_train}, VI)"
   ]
  },
  {
   "cell_type": "code",
   "execution_count": 10,
   "metadata": {},
   "outputs": [
    {
     "data": {
      "text/plain": [
       "{'w0': {'name': 'w0',\n",
       "  'allow_nan_stats': True,\n",
       "  'validate_args': False,\n",
       "  'scale': 0.37569955,\n",
       "  'loc': 1.248945},\n",
       " 'w': {'name': 'w',\n",
       "  'allow_nan_stats': True,\n",
       "  'validate_args': False,\n",
       "  'scale': array([[0.41308242],\n",
       "         [0.08587791],\n",
       "         [0.00189232],\n",
       "         [0.03228379],\n",
       "         [0.00214537],\n",
       "         [0.03646533]], dtype=float32),\n",
       "  'loc': array([[ 4.5333991e+00],\n",
       "         [ 2.1196265e+00],\n",
       "         [ 1.1395563e-03],\n",
       "         [ 2.9572901e-01],\n",
       "         [ 2.9363347e-02],\n",
       "         [-7.0499170e-01]], dtype=float32)}}"
      ]
     },
     "execution_count": 10,
     "metadata": {},
     "output_type": "execute_result"
    }
   ],
   "source": [
    "# extract the parameters of the posterior\n",
    "lr_bmodel.posterior([\"w\", \"w0\"]).parameters()"
   ]
  },
  {
   "cell_type": "code",
   "execution_count": null,
   "metadata": {},
   "outputs": [],
   "source": []
  }
 ],
 "metadata": {
  "kernelspec": {
   "display_name": "Python 3",
   "language": "python",
   "name": "python3"
  },
  "language_info": {
   "codemirror_mode": {
    "name": "ipython",
    "version": 3
   },
   "file_extension": ".py",
   "mimetype": "text/x-python",
   "name": "python",
   "nbconvert_exporter": "python",
   "pygments_lexer": "ipython3",
   "version": "3.6.8"
  }
 },
 "nbformat": 4,
 "nbformat_minor": 4
}
