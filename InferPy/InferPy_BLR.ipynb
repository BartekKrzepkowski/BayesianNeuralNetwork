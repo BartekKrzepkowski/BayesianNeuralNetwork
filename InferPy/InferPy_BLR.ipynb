{
 "cells": [
  {
   "cell_type": "markdown",
   "metadata": {},
   "source": [
    "# Bayesian Linear Regression"
   ]
  },
  {
   "cell_type": "markdown",
   "metadata": {},
   "source": [
    "In this notebook we will apply the framework of Bayesian statistics to linear regression."
   ]
  },
  {
   "cell_type": "markdown",
   "metadata": {},
   "source": [
    " "
   ]
  },
  {
   "cell_type": "markdown",
   "metadata": {},
   "source": [
    "<img src=\"BLR.png\">"
   ]
  },
  {
   "cell_type": "markdown",
   "metadata": {},
   "source": [
    "With contrast to the linear least squares estimation techniques like OLS, Bayesian linear regession produces not a single point estimate for the \"best\" values of the regression coefficients but an entire posterior distribution, completely describing the uncertainty surrounding the quantity."
   ]
  },
  {
   "cell_type": "markdown",
   "metadata": {},
   "source": [
    "# Base assumptions about posit linear model.\n",
    "\n",
    "Given some phenomenons, coded into observable matrices $X$, $Y$<br>\n",
    "\n",
    "$\\textbf{1)}$ Relationship between phenomenons from $X$ and $Y$ is linear, but gathered data is infected by some noise, which is coded into unobserved random variable $\\epsilon$.<br>\n",
    "Described dependence can be writen like this\n",
    "$$Y = X \\cdot \\beta + \\epsilon$$\n",
    "Which is also called the dependency hypothesis.\n",
    "<br>\n",
    "<br>\n",
    "<br>\n",
    "$\\textbf{2)}$ Noises that have infected the collected data, come from distributions with the same variance. It is also called homoscedasticity.\n",
    "Szumy, które wdarły się w zbierne dane pochodzą z rozkładów o tej samej wariancji\n",
    "<br>\n",
    "<br>\n",
    "<br>\n",
    "$\\textbf{3)}$ Errors of the response variables are uncorrelated/independent with each other.\n",
    "<br>\n",
    "<br>\n",
    "<br>\n",
    "$\\textbf{4)}$ Features represented phenomenons in $X$ are linear independence. Number of records in $X$ is greater than number of parameters(regression coefficients) in model."
   ]
  },
  {
   "cell_type": "code",
   "execution_count": null,
   "metadata": {},
   "outputs": [],
   "source": [
    "<br>"
   ]
  }
 ],
 "metadata": {
  "kernelspec": {
   "display_name": "Python 3",
   "language": "python",
   "name": "python3"
  },
  "language_info": {
   "codemirror_mode": {
    "name": "ipython",
    "version": 3
   },
   "file_extension": ".py",
   "mimetype": "text/x-python",
   "name": "python",
   "nbconvert_exporter": "python",
   "pygments_lexer": "ipython3",
   "version": "3.6.8"
  }
 },
 "nbformat": 4,
 "nbformat_minor": 4
}
