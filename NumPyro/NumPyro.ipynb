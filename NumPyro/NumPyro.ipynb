{
 "cells": [
  {
   "cell_type": "code",
   "execution_count": 22,
   "metadata": {},
   "outputs": [
    {
     "name": "stderr",
     "output_type": "stream",
     "text": [
      "/usr/local/lib/python3.6/dist-packages/matplotlib/__init__.py:886: MatplotlibDeprecationWarning: \n",
      "examples.directory is deprecated; in the future, examples will be found relative to the 'datapath' directory.\n",
      "  \"found relative to the 'datapath' directory.\".format(key))\n"
     ]
    }
   ],
   "source": [
    "import os\n",
    "import numpy as np\n",
    "import pandas as pd\n",
    "import matplotlib.pyplot as plt\n",
    "import seaborn as sns\n",
    "\n",
    "import torch\n",
    "from torch import nn"
   ]
  },
  {
   "cell_type": "code",
   "execution_count": 17,
   "metadata": {},
   "outputs": [
    {
     "data": {
      "text/html": [
       "<div>\n",
       "<style scoped>\n",
       "    .dataframe tbody tr th:only-of-type {\n",
       "        vertical-align: middle;\n",
       "    }\n",
       "\n",
       "    .dataframe tbody tr th {\n",
       "        vertical-align: top;\n",
       "    }\n",
       "\n",
       "    .dataframe thead th {\n",
       "        text-align: right;\n",
       "    }\n",
       "</style>\n",
       "<table border=\"1\" class=\"dataframe\">\n",
       "  <thead>\n",
       "    <tr style=\"text-align: right;\">\n",
       "      <th></th>\n",
       "      <th>cont_africa</th>\n",
       "      <th>rugged</th>\n",
       "      <th>rgdppc_2000</th>\n",
       "    </tr>\n",
       "  </thead>\n",
       "  <tbody>\n",
       "    <tr>\n",
       "      <th>2</th>\n",
       "      <td>1</td>\n",
       "      <td>0.858</td>\n",
       "      <td>7.492609</td>\n",
       "    </tr>\n",
       "    <tr>\n",
       "      <th>4</th>\n",
       "      <td>0</td>\n",
       "      <td>3.427</td>\n",
       "      <td>8.216929</td>\n",
       "    </tr>\n",
       "    <tr>\n",
       "      <th>7</th>\n",
       "      <td>0</td>\n",
       "      <td>0.769</td>\n",
       "      <td>9.933263</td>\n",
       "    </tr>\n",
       "    <tr>\n",
       "      <th>8</th>\n",
       "      <td>0</td>\n",
       "      <td>0.775</td>\n",
       "      <td>9.407032</td>\n",
       "    </tr>\n",
       "    <tr>\n",
       "      <th>9</th>\n",
       "      <td>0</td>\n",
       "      <td>2.688</td>\n",
       "      <td>7.792343</td>\n",
       "    </tr>\n",
       "  </tbody>\n",
       "</table>\n",
       "</div>"
      ],
      "text/plain": [
       "   cont_africa  rugged  rgdppc_2000\n",
       "2            1   0.858     7.492609\n",
       "4            0   3.427     8.216929\n",
       "7            0   0.769     9.933263\n",
       "8            0   0.775     9.407032\n",
       "9            0   2.688     7.792343"
      ]
     },
     "execution_count": 17,
     "metadata": {},
     "output_type": "execute_result"
    }
   ],
   "source": [
    "DATA_URL = \"https://d2fefpcigoriu7.cloudfront.net/datasets/rugged_data.csv\"\n",
    "data = pd.read_csv(DATA_URL, encoding=\"ISO-8859-1\")\n",
    "df = data[[\"cont_africa\", \"rugged\", \"rgdppc_2000\"]]\n",
    "df = df[np.isfinite(df.rgdppc_2000)]\n",
    "df[\"rgdppc_2000\"] = np.log(df[\"rgdppc_2000\"])\n",
    "df.head()"
   ]
  },
  {
   "cell_type": "code",
   "execution_count": 23,
   "metadata": {},
   "outputs": [
    {
     "data": {
      "text/plain": [
       "[Text(0, 0.5, 'log GDP (2000)'),\n",
       " Text(0.5, 0, 'Terrain Ruggedness Index'),\n",
       " Text(0.5, 1.0, 'African Nations')]"
      ]
     },
     "execution_count": 23,
     "metadata": {},
     "output_type": "execute_result"
    },
    {
     "data": {
      "image/png": "[encoded data removed]",
      "text/plain": [
       "<Figure size 864x432 with 2 Axes>"
      ]
     },
     "metadata": {
      "needs_background": "light"
     },
     "output_type": "display_data"
    }
   ],
   "source": [
    "fig, ax = plt.subplots(nrows=1, ncols=2, figsize=(12, 6), sharey=True)\n",
    "african_nations = data[data[\"cont_africa\"] == 1]\n",
    "non_african_nations = data[data[\"cont_africa\"] == 0]\n",
    "sns.scatterplot(non_african_nations[\"rugged\"],\n",
    "            np.log(non_african_nations[\"rgdppc_2000\"]),\n",
    "            ax=ax[0])\n",
    "ax[0].set(xlabel=\"Terrain Ruggedness Index\",\n",
    "          ylabel=\"log GDP (2000)\",\n",
    "          title=\"Non African Nations\")\n",
    "sns.scatterplot(african_nations[\"rugged\"],\n",
    "            np.log(african_nations[\"rgdppc_2000\"]),\n",
    "            ax=ax[1])\n",
    "ax[1].set(xlabel=\"Terrain Ruggedness Index\",\n",
    "          ylabel=\"log GDP (2000)\",\n",
    "          title=\"African Nations\")"
   ]
  },
  {
   "cell_type": "code",
   "execution_count": 44,
   "metadata": {},
   "outputs": [],
   "source": [
    "class RegressionModel(nn.Module):\n",
    "    def __init__(self, p):\n",
    "        super(RegressionModel, self).__init__()\n",
    "        self.linear = nn.Linear(in_features=p, out_features=1)\n",
    "        self.factor = nn.Parameter(torch.tensor(data=1.))\n",
    "        \n",
    "    def forward(self, x):\n",
    "        return self.linear(x) + (self.factor * x[:, 0] * x[:, 1]).unsqueeze(dim=1)"
   ]
  },
  {
   "cell_type": "code",
   "execution_count": 45,
   "metadata": {},
   "outputs": [],
   "source": [
    "p=2\n",
    "reg_model = RegressionModel(p=p)"
   ]
  },
  {
   "cell_type": "code",
   "execution_count": 46,
   "metadata": {},
   "outputs": [],
   "source": [
    "loss_fn = torch.nn.MSELoss(reduction=\"sum\")\n",
    "optim = torch.optim.Adam(params=reg_model.parameters(), lr=0.05)\n",
    "num_iterations = 5000\n",
    "data = torch.tensor(data = df.values, dtype=torch.float)\n",
    "x_data, y_data = data[:, :-1], data[:, -1]"
   ]
  },
  {
   "cell_type": "code",
   "execution_count": 47,
   "metadata": {},
   "outputs": [],
   "source": [
    "def main(x_data, y_data, num_iterations):\n",
    "    for i in range(num_iterations):\n",
    "        y_pred = reg_model(x_data).squeeze(-1)\n",
    "        loss = loss_fn(y_pred, y_data)\n",
    "        optim.zero_grad()\n",
    "        loss.backward()\n",
    "        optim.step()\n",
    "        if (i + 1) % 50 == 0:\n",
    "            print(\"[iteration %04d] loss: %.4f\" % (i + 1, loss.item()))\n",
    "            \n",
    "    print(\"\\nLearned parameters:\")\n",
    "    for name, param in reg_model.named_parameters():\n",
    "        print(name, param.data.numpy())\n",
    "        \n"
   ]
  },
  {
   "cell_type": "code",
   "execution_count": 48,
   "metadata": {},
   "outputs": [
    {
     "name": "stdout",
     "output_type": "stream",
     "text": [
      "[iteration 0050] loss: 3896.4810\n",
      "[iteration 0100] loss: 2003.0917\n",
      "[iteration 0150] loss: 1396.6758\n",
      "[iteration 0200] loss: 1046.8179\n",
      "[iteration 0250] loss: 788.7859\n",
      "[iteration 0300] loss: 590.2484\n",
      "[iteration 0350] loss: 442.3182\n",
      "[iteration 0400] loss: 336.9018\n",
      "[iteration 0450] loss: 264.9783\n",
      "[iteration 0500] loss: 217.9030\n",
      "[iteration 0550] loss: 188.3036\n",
      "[iteration 0600] loss: 170.4082\n",
      "[iteration 0650] loss: 159.9994\n",
      "[iteration 0700] loss: 154.1724\n",
      "[iteration 0750] loss: 151.0324\n",
      "[iteration 0800] loss: 149.4035\n",
      "[iteration 0850] loss: 148.5903\n",
      "[iteration 0900] loss: 148.1995\n",
      "[iteration 0950] loss: 148.0189\n",
      "[iteration 1000] loss: 147.9386\n",
      "[iteration 1050] loss: 147.9044\n",
      "[iteration 1100] loss: 147.8903\n",
      "[iteration 1150] loss: 147.8848\n",
      "[iteration 1200] loss: 147.8827\n",
      "[iteration 1250] loss: 147.8819\n",
      "[iteration 1300] loss: 147.8817\n",
      "[iteration 1350] loss: 147.8816\n",
      "[iteration 1400] loss: 147.8815\n",
      "[iteration 1450] loss: 147.8815\n",
      "[iteration 1500] loss: 147.8815\n",
      "[iteration 1550] loss: 147.8815\n",
      "[iteration 1600] loss: 147.8815\n",
      "[iteration 1650] loss: 147.8815\n",
      "[iteration 1700] loss: 147.8815\n",
      "[iteration 1750] loss: 147.8815\n",
      "[iteration 1800] loss: 147.8815\n",
      "[iteration 1850] loss: 147.8815\n",
      "[iteration 1900] loss: 147.8815\n",
      "[iteration 1950] loss: 147.8815\n",
      "[iteration 2000] loss: 147.8815\n",
      "[iteration 2050] loss: 147.8815\n",
      "[iteration 2100] loss: 147.8815\n",
      "[iteration 2150] loss: 147.8815\n",
      "[iteration 2200] loss: 147.8815\n",
      "[iteration 2250] loss: 147.8815\n",
      "[iteration 2300] loss: 147.8815\n",
      "[iteration 2350] loss: 147.8815\n",
      "[iteration 2400] loss: 147.8815\n",
      "[iteration 2450] loss: 147.8815\n",
      "[iteration 2500] loss: 147.8815\n",
      "[iteration 2550] loss: 147.8815\n",
      "[iteration 2600] loss: 147.8815\n",
      "[iteration 2650] loss: 147.8815\n",
      "[iteration 2700] loss: 147.8815\n",
      "[iteration 2750] loss: 147.8815\n",
      "[iteration 2800] loss: 147.8815\n",
      "[iteration 2850] loss: 147.8815\n",
      "[iteration 2900] loss: 147.8815\n",
      "[iteration 2950] loss: 147.8815\n",
      "[iteration 3000] loss: 147.8815\n",
      "[iteration 3050] loss: 147.8815\n",
      "[iteration 3100] loss: 147.8815\n",
      "[iteration 3150] loss: 147.8815\n",
      "[iteration 3200] loss: 147.8815\n",
      "[iteration 3250] loss: 147.8815\n",
      "[iteration 3300] loss: 147.8815\n",
      "[iteration 3350] loss: 147.8815\n",
      "[iteration 3400] loss: 147.8815\n",
      "[iteration 3450] loss: 147.8815\n",
      "[iteration 3500] loss: 147.8815\n",
      "[iteration 3550] loss: 147.8815\n",
      "[iteration 3600] loss: 147.8815\n",
      "[iteration 3650] loss: 147.8815\n",
      "[iteration 3700] loss: 147.8815\n",
      "[iteration 3750] loss: 147.8815\n",
      "[iteration 3800] loss: 147.8815\n",
      "[iteration 3850] loss: 147.8815\n",
      "[iteration 3900] loss: 147.8815\n",
      "[iteration 3950] loss: 147.8815\n",
      "[iteration 4000] loss: 147.8815\n",
      "[iteration 4050] loss: 147.8815\n",
      "[iteration 4100] loss: 147.8815\n",
      "[iteration 4150] loss: 147.8815\n",
      "[iteration 4200] loss: 147.8815\n",
      "[iteration 4250] loss: 147.8815\n",
      "[iteration 4300] loss: 147.8815\n",
      "[iteration 4350] loss: 147.8815\n",
      "[iteration 4400] loss: 147.8815\n",
      "[iteration 4450] loss: 147.8815\n",
      "[iteration 4500] loss: 147.8815\n",
      "[iteration 4550] loss: 147.8815\n",
      "[iteration 4600] loss: 147.8815\n",
      "[iteration 4650] loss: 147.8815\n",
      "[iteration 4700] loss: 147.8815\n",
      "[iteration 4750] loss: 147.8815\n",
      "[iteration 4800] loss: 147.8815\n",
      "[iteration 4850] loss: 147.8815\n",
      "[iteration 4900] loss: 147.8815\n",
      "[iteration 4950] loss: 147.8815\n",
      "[iteration 5000] loss: 147.8815\n",
      "\n",
      "Learned parameters:\n",
      "factor 0.39339206\n",
      "linear.weight [[-1.9480442  -0.20285547]]\n",
      "linear.bias [9.223223]\n"
     ]
    }
   ],
   "source": [
    "main(x_data, y_data, num_iterations)"
   ]
  },
  {
   "cell_type": "code",
   "execution_count": null,
   "metadata": {},
   "outputs": [],
   "source": []
  }
 ],
 "metadata": {
  "kernelspec": {
   "display_name": "Python 3",
   "language": "python",
   "name": "python3"
  },
  "language_info": {
   "codemirror_mode": {
    "name": "ipython",
    "version": 3
   },
   "file_extension": ".py",
   "mimetype": "text/x-python",
   "name": "python",
   "nbconvert_exporter": "python",
   "pygments_lexer": "ipython3",
   "version": "3.6.8"
  }
 },
 "nbformat": 4,
 "nbformat_minor": 4
}
